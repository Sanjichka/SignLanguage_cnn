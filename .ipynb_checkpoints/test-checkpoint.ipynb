{
 "cells": [
  {
   "cell_type": "code",
   "execution_count": 1,
   "metadata": {},
   "outputs": [
    {
     "name": "stdout",
     "output_type": "stream",
     "text": [
      "importing Jupyter notebook from CNN.ipynb\n",
      "Loading label binarizer...\n"
     ]
    }
   ],
   "source": [
    "import albumentations #fast and flexible image augmentation library\n",
    "import torch #provides a wide range of algorithms for deep learning\n",
    "import joblib #provides lightweight pipelining/transparent disk-caching of functions and lazy re-evaluation (memoize pattern)\n",
    "import torch.nn as nn #helps in creating and training of the neural network\n",
    "import numpy as np #operations on arrays\n",
    "import cv2 #read and preprocess images\n",
    "import torch.nn.functional as F #applies a xD(ex. 2D) convolution over an input image composed of several input planes\n",
    "import time #provides many ways of representing time in code\n",
    "import import_ipynb #defines a “notebook loader” that allows you to ‘import’ other ipynb files into your current ipynb file\n",
    "import CNN #the created model\n",
    "import matplotlib.pyplot as plt #plotting library"
   ]
  },
  {
   "cell_type": "code",
   "execution_count": 2,
   "metadata": {},
   "outputs": [],
   "source": [
    "aug = albumentations.Compose([\n",
    "                albumentations.LongestMaxSize(224),\n",
    "])"
   ]
  },
  {
   "cell_type": "code",
   "execution_count": 3,
   "metadata": {},
   "outputs": [],
   "source": [
    "# load label binarizer\n",
    "lb = joblib.load('D:\\\\Anaconda_zadachki\\\\RealTimeObjectDetection1\\\\Tensorflow\\\\workspace\\\\out\\\\lb.pkl')"
   ]
  },
  {
   "cell_type": "code",
   "execution_count": 4,
   "metadata": {},
   "outputs": [],
   "source": [
    "# model to gpu\n",
    "device = torch.device('cude' if torch.cuda.is_available() else 'cpu')"
   ]
  },
  {
   "cell_type": "code",
   "execution_count": 5,
   "metadata": {},
   "outputs": [
    {
     "name": "stdout",
     "output_type": "stream",
     "text": [
      "CustomCNN(\n",
      "  (conv1): Conv2d(3, 16, kernel_size=(5, 5), stride=(1, 1))\n",
      "  (conv2): Conv2d(16, 32, kernel_size=(5, 5), stride=(1, 1))\n",
      "  (conv3): Conv2d(32, 64, kernel_size=(3, 3), stride=(1, 1))\n",
      "  (conv4): Conv2d(64, 128, kernel_size=(5, 5), stride=(1, 1))\n",
      "  (fc1): Linear(in_features=128, out_features=256, bias=True)\n",
      "  (fc2): Linear(in_features=256, out_features=58, bias=True)\n",
      "  (pool): MaxPool2d(kernel_size=2, stride=2, padding=0, dilation=1, ceil_mode=False)\n",
      ")\n",
      "Model loaded\n"
     ]
    }
   ],
   "source": [
    "model = CNN.CustomCNN().to(device)\n",
    "model.load_state_dict(torch.load('D:\\\\Anaconda_zadachki\\\\RealTimeObjectDetection1\\\\Tensorflow\\\\workspace\\\\out\\\\model.pth'))\n",
    "print(model)\n",
    "print('Model loaded')"
   ]
  },
  {
   "cell_type": "code",
   "execution_count": 6,
   "metadata": {},
   "outputs": [
    {
     "name": "stdout",
     "output_type": "stream",
     "text": [
      "torch.Size([1, 3, 224, 224])\n"
     ]
    }
   ],
   "source": [
    "image = cv2.imread(f\"D:\\\\Anaconda_zadachki\\\\RealTimeObjectDetection1\\\\Tensorflow\\\\workspace\\\\images\\\\test\\\\38.jpg\")\n",
    "image_copy = image.copy()\n",
    " \n",
    "image = aug(image=np.array(image))['image']\n",
    "image = np.transpose(image, (2, 0, 1)).astype(np.float32)\n",
    "image = torch.tensor(image, dtype=torch.float).to(device)\n",
    "image = image.unsqueeze(0)\n",
    "print(image.shape)"
   ]
  },
  {
   "cell_type": "code",
   "execution_count": 8,
   "metadata": {},
   "outputs": [
    {
     "name": "stdout",
     "output_type": "stream",
     "text": [
      "PREDS tensor([24])\n",
      "Predicted output: Korona\n",
      "0.019 seconds\n"
     ]
    },
    {
     "data": {
      "text/plain": [
       "array([[[ 91, 104, 118],\n",
       "        [120, 133, 147],\n",
       "        [ 98, 111, 125],\n",
       "        ...,\n",
       "        [172, 177, 175],\n",
       "        [176, 181, 179],\n",
       "        [185, 190, 188]],\n",
       "\n",
       "       [[ 81,  94, 108],\n",
       "        [118, 131, 145],\n",
       "        [133, 146, 160],\n",
       "        ...,\n",
       "        [178, 183, 181],\n",
       "        [180, 185, 183],\n",
       "        [184, 189, 187]],\n",
       "\n",
       "       [[125, 138, 152],\n",
       "        [100, 113, 127],\n",
       "        [106, 119, 133],\n",
       "        ...,\n",
       "        [181, 186, 184],\n",
       "        [175, 180, 178],\n",
       "        [177, 182, 180]],\n",
       "\n",
       "       ...,\n",
       "\n",
       "       [[ 21,  19,  18],\n",
       "        [ 21,  19,  18],\n",
       "        [ 25,  23,  22],\n",
       "        ...,\n",
       "        [173, 178, 177],\n",
       "        [171, 176, 175],\n",
       "        [171, 176, 175]],\n",
       "\n",
       "       [[ 22,  20,  19],\n",
       "        [ 20,  18,  17],\n",
       "        [ 23,  21,  20],\n",
       "        ...,\n",
       "        [172, 177, 176],\n",
       "        [169, 174, 173],\n",
       "        [170, 175, 174]],\n",
       "\n",
       "       [[ 21,  19,  18],\n",
       "        [ 18,  16,  15],\n",
       "        [ 23,  21,  20],\n",
       "        ...,\n",
       "        [171, 176, 175],\n",
       "        [168, 173, 172],\n",
       "        [170, 175, 174]]], dtype=uint8)"
      ]
     },
     "execution_count": 8,
     "metadata": {},
     "output_type": "execute_result"
    }
   ],
   "source": [
    "start = time.time()\n",
    "outputs = model(image)\n",
    "_, preds = torch.max(outputs.data, 1)\n",
    "print('PREDS', preds)\n",
    "print(f\"Predicted output: {lb.classes_[preds]}\")\n",
    "end = time.time()\n",
    "print(f\"{(end-start):.3f} seconds\")\n",
    "cv2.putText(image_copy, lb.classes_[preds], (10, 30), cv2.FONT_HERSHEY_SIMPLEX, 0.9, (0, 255, 0), 2)"
   ]
  },
  {
   "cell_type": "code",
   "execution_count": 9,
   "metadata": {},
   "outputs": [
    {
     "data": {
      "text/plain": [
       "True"
      ]
     },
     "execution_count": 9,
     "metadata": {},
     "output_type": "execute_result"
    }
   ],
   "source": [
    "cv2.imwrite(f\"D:\\\\Anaconda_zadachki\\\\RealTimeObjectDetection1\\\\Tensorflow\\\\workspace\\\\out\\\\38.jpg\", image_copy)"
   ]
  },
  {
   "cell_type": "code",
   "execution_count": 10,
   "metadata": {},
   "outputs": [
    {
     "data": {
      "text/plain": [
       "'4.5.5'"
      ]
     },
     "execution_count": 10,
     "metadata": {},
     "output_type": "execute_result"
    }
   ],
   "source": [
    "from cv2 import __version__\n",
    "__version__"
   ]
  },
  {
   "cell_type": "code",
   "execution_count": 11,
   "metadata": {},
   "outputs": [
    {
     "data": {
      "text/plain": [
       "-1"
      ]
     },
     "execution_count": 11,
     "metadata": {},
     "output_type": "execute_result"
    }
   ],
   "source": [
    "cv2.imshow(f\"D:\\\\Anaconda_zadachki\\\\RealTimeObjectDetection1\\\\Tensorflow\\\\workspace\\\\out\\\\38.jpg\", image_copy)\n",
    "cv2.waitKey(0)"
   ]
  },
  {
   "cell_type": "code",
   "execution_count": null,
   "metadata": {},
   "outputs": [],
   "source": []
  }
 ],
 "metadata": {
  "kernelspec": {
   "display_name": "Python 3 (ipykernel)",
   "language": "python",
   "name": "python3"
  },
  "language_info": {
   "codemirror_mode": {
    "name": "ipython",
    "version": 3
   },
   "file_extension": ".py",
   "mimetype": "text/x-python",
   "name": "python",
   "nbconvert_exporter": "python",
   "pygments_lexer": "ipython3",
   "version": "3.8.8"
  }
 },
 "nbformat": 4,
 "nbformat_minor": 4
}
