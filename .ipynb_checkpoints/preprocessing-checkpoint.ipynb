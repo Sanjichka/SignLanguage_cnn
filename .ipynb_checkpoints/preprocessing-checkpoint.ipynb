{
 "cells": [
  {
   "cell_type": "code",
   "execution_count": 1,
   "metadata": {},
   "outputs": [],
   "source": [
    "import os #interacting with the operating system\n",
    "import cv2 #read and preprocess images\n",
    "import numpy as np #operations on arrays\n",
    "from tqdm import tqdm #output a smart progress bar by wrapping around any iterable"
   ]
  },
  {
   "cell_type": "code",
   "execution_count": 3,
   "metadata": {},
   "outputs": [],
   "source": [
    "# get all the directory paths\n",
    "dir_paths = os.listdir('D:\\\\Anaconda_zadachki\\\\RealTimeObjectDetection1\\\\Tensorflow\\\\workspace\\\\images\\\\train')\n",
    "dir_paths.sort()\n",
    "root_path = 'D:\\\\Anaconda_zadachki\\\\RealTimeObjectDetection1\\\\Tensorflow\\\\workspace\\\\images\\\\train'"
   ]
  },
  {
   "cell_type": "code",
   "execution_count": 7,
   "metadata": {},
   "outputs": [
    {
     "name": "stderr",
     "output_type": "stream",
     "text": [
      "0it [00:00, ?it/s]"
     ]
    },
    {
     "name": "stdout",
     "output_type": "stream",
     "text": [
      "DONE\n"
     ]
    },
    {
     "name": "stderr",
     "output_type": "stream",
     "text": [
      "\n"
     ]
    }
   ],
   "source": [
    "# get --num-images images from each category\n",
    "for idx, dir_path  in tqdm(enumerate(dir_paths), total=len(dir_paths)):\n",
    "    all_images = os.listdir(f\"{root_path}/{dir_path}\")\n",
    "    os.makedirs(f\"D:\\\\Anaconda_zadachki\\\\RealTimeObjectDetection1\\\\Tensorflow\\\\workspace\\\\images\\\\collectedImages\\\\{dir_path}\", exist_ok=True)\n",
    "    for i in range(210): # how many images to preprocess for each category\n",
    "        image = cv2.imread(f\"{root_path}/{dir_path}/{all_images[i]}\")\n",
    "        image = cv2.resize(image, (224, 224))\n",
    "        cv2.imwrite(f\"D:\\\\Anaconda_zadachki\\\\RealTimeObjectDetection1\\\\Tensorflow\\\\workspace\\\\images\\\\collectedImages\\\\{dir_path}/{dir_path}{i}.jpg\", image)\n",
    "print('DONE')"
   ]
  }
 ],
 "metadata": {
  "kernelspec": {
   "display_name": "Python 3 (ipykernel)",
   "language": "python",
   "name": "python3"
  },
  "language_info": {
   "codemirror_mode": {
    "name": "ipython",
    "version": 3
   },
   "file_extension": ".py",
   "mimetype": "text/x-python",
   "name": "python",
   "nbconvert_exporter": "python",
   "pygments_lexer": "ipython3",
   "version": "3.8.8"
  }
 },
 "nbformat": 4,
 "nbformat_minor": 4
}
