{
 "cells": [
  {
   "cell_type": "code",
   "execution_count": 1,
   "metadata": {},
   "outputs": [],
   "source": [
    "import os\n",
    "import cv2\n",
    "import random"
   ]
  },
  {
   "cell_type": "code",
   "execution_count": 2,
   "metadata": {},
   "outputs": [],
   "source": [
    "import numpy as np\n",
    "import argparse\n",
    "from tqdm import tqdm"
   ]
  },
  {
   "cell_type": "code",
   "execution_count": 4,
   "metadata": {},
   "outputs": [],
   "source": [
    "# get all the directory paths\n",
    "dir_paths = os.listdir('D:\\\\Anaconda_zadachki\\\\RealTimeObjectDetection\\\\Tensorflow\\\\workspace\\\\images\\\\train')\n",
    "dir_paths.sort()\n",
    "root_path = 'D:\\\\Anaconda_zadachki\\\\RealTimeObjectDetection\\\\Tensorflow\\\\workspace\\\\images\\\\train'"
   ]
  },
  {
   "cell_type": "code",
   "execution_count": 5,
   "metadata": {},
   "outputs": [
    {
     "name": "stderr",
     "output_type": "stream",
     "text": [
      "100%|██████████| 58/58 [03:50<00:00,  3.98s/it]"
     ]
    },
    {
     "name": "stdout",
     "output_type": "stream",
     "text": [
      "DONE\n"
     ]
    },
    {
     "name": "stderr",
     "output_type": "stream",
     "text": [
      "\n"
     ]
    }
   ],
   "source": [
    "# get --num-images images from each category\n",
    "for idx, dir_path  in tqdm(enumerate(dir_paths), total=len(dir_paths)):\n",
    "    all_images = os.listdir(f\"{root_path}/{dir_path}\")\n",
    "    os.makedirs(f\"D:\\\\Anaconda_zadachki\\\\RealTimeObjectDetection\\\\Tensorflow\\\\workspace\\\\images\\\\train\\\\{dir_path}\", exist_ok=True)\n",
    "    for i in range(210): # how many images to preprocess for each category\n",
    "        image = cv2.imread(f\"{root_path}/{dir_path}/{all_images[i]}\")\n",
    "        image = cv2.resize(image, (224, 224))\n",
    "        cv2.imwrite(f\"C:\\\\Users\\\\Alise-VivoBook\\\\ia\\\\input\\\\preprocessed_image\\\\{dir_path}/{dir_path}{i}.jpg\", image)\n",
    "print('DONE')"
   ]
  },
  {
   "cell_type": "code",
   "execution_count": null,
   "metadata": {},
   "outputs": [],
   "source": []
  }
 ],
 "metadata": {
  "kernelspec": {
   "display_name": "Python 3 (ipykernel)",
   "language": "python",
   "name": "python3"
  },
  "language_info": {
   "codemirror_mode": {
    "name": "ipython",
    "version": 3
   },
   "file_extension": ".py",
   "mimetype": "text/x-python",
   "name": "python",
   "nbconvert_exporter": "python",
   "pygments_lexer": "ipython3",
   "version": "3.8.8"
  }
 },
 "nbformat": 4,
 "nbformat_minor": 4
}
