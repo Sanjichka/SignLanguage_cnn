{
 "cells": [
  {
   "cell_type": "code",
   "execution_count": 1,
   "metadata": {},
   "outputs": [],
   "source": [
    "import pandas as pd\n",
    "import numpy as np\n",
    "import os"
   ]
  },
  {
   "cell_type": "code",
   "execution_count": 2,
   "metadata": {},
   "outputs": [],
   "source": [
    "import joblib\n",
    "from sklearn.preprocessing import LabelBinarizer"
   ]
  },
  {
   "cell_type": "code",
   "execution_count": 4,
   "metadata": {},
   "outputs": [],
   "source": [
    "from tqdm import tqdm\n",
    "from imutils import paths"
   ]
  },
  {
   "cell_type": "code",
   "execution_count": 5,
   "metadata": {},
   "outputs": [
    {
     "name": "stderr",
     "output_type": "stream",
     "text": [
      "100%|██████████| 12180/12180 [00:17<00:00, 682.36it/s]\n"
     ]
    },
    {
     "name": "stdout",
     "output_type": "stream",
     "text": [
      "The first one hot encoded labels: [1 0 0 0 0 0 0 0 0 0 0 0 0 0 0 0 0 0 0 0 0 0 0 0 0 0 0 0 0 0 0 0 0 0 0 0 0\n",
      " 0 0 0 0 0 0 0 0 0 0 0 0 0 0 0 0 0 0 0 0 0]\n",
      "Mapping the first one hot encoded label to its category: A\n",
      "Total instances: 12180\n",
      "Saving the binarized labels as pickled file\n",
      "                                          image_path  target\n",
      "0  C:\\Users\\Alise-VivoBook\\ia\\input\\preprocessed_...    13.0\n",
      "1  C:\\Users\\Alise-VivoBook\\ia\\input\\preprocessed_...    24.0\n",
      "2  C:\\Users\\Alise-VivoBook\\ia\\input\\preprocessed_...    50.0\n",
      "3  C:\\Users\\Alise-VivoBook\\ia\\input\\preprocessed_...    52.0\n",
      "4  C:\\Users\\Alise-VivoBook\\ia\\input\\preprocessed_...    17.0\n"
     ]
    }
   ],
   "source": [
    "# get all the image paths\n",
    "image_paths = list(paths.list_images('D:\\\\Anaconda_zadachki\\\\RealTimeObjectDetection\\\\Tensorflow\\\\workspace\\\\images\\\\collectedImages\\\\'))\n",
    "# create a DataFrame \n",
    "data = pd.DataFrame()\n",
    "labels = []\n",
    "for i, image_path in tqdm(enumerate(image_paths), total=len(image_paths)):\n",
    "    label = image_path.split(os.path.sep)[-2]\n",
    "    # save the relative path for mapping image to target\n",
    "    data.loc[i, 'image_path'] = image_path\n",
    "    labels.append(label)\n",
    "labels = np.array(labels)\n",
    "# one hot encode the labels\n",
    "lb = LabelBinarizer()\n",
    "labels = lb.fit_transform(labels)\n",
    "print(f\"The first one hot encoded labels: {labels[0]}\")\n",
    "print(f\"Mapping the first one hot encoded label to its category: {lb.classes_[0]}\")\n",
    "print(f\"Total instances: {len(labels)}\")\n",
    "for i in range(len(labels)):\n",
    "    index = np.argmax(labels[i])\n",
    "    data.loc[i, 'target'] = int(index)\n",
    "# shuffle the dataset\n",
    "data = data.sample(frac=1).reset_index(drop=True)\n",
    "# save as CSV file\n",
    "data.to_csv('C:\\\\Users\\\\Alise-VivoBook\\\\ia\\\\input\\\\data.csv', index=False)\n",
    "# pickle the binarized labels\n",
    "print('Saving the binarized labels as pickled file')\n",
    "joblib.dump(lb, 'C:\\\\Users\\\\Alise-VivoBook\\\\ia\\\\outputs\\\\lb.pkl')\n",
    "print(data.head(5))"
   ]
  },
  {
   "cell_type": "code",
   "execution_count": null,
   "metadata": {},
   "outputs": [],
   "source": []
  }
 ],
 "metadata": {
  "kernelspec": {
   "display_name": "Python 3 (ipykernel)",
   "language": "python",
   "name": "python3"
  },
  "language_info": {
   "codemirror_mode": {
    "name": "ipython",
    "version": 3
   },
   "file_extension": ".py",
   "mimetype": "text/x-python",
   "name": "python",
   "nbconvert_exporter": "python",
   "pygments_lexer": "ipython3",
   "version": "3.8.8"
  }
 },
 "nbformat": 4,
 "nbformat_minor": 4
}
