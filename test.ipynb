{
 "cells": [
  {
   "cell_type": "code",
   "execution_count": 1,
   "metadata": {},
   "outputs": [
    {
     "name": "stdout",
     "output_type": "stream",
     "text": [
      "importing Jupyter notebook from CNN.ipynb\n",
      "Loading label binarizer...\n"
     ]
    }
   ],
   "source": [
    "import albumentations #fast and flexible image augmentation library\n",
    "import torch #provides a wide range of algorithms for deep learning\n",
    "import joblib #provides lightweight pipelining/transparent disk-caching of functions and lazy re-evaluation (memoize pattern)\n",
    "import torch.nn as nn #helps in creating and training of the neural network\n",
    "import numpy as np #operations on arrays\n",
    "import cv2 #read and preprocess images\n",
    "import torch.nn.functional as F #applies a xD(ex. 2D) convolution over an input image composed of several input planes\n",
    "import time #provides many ways of representing time in code\n",
    "import import_ipynb #defines a “notebook loader” that allows you to ‘import’ other ipynb files into your current ipynb file\n",
    "import CNN #the created model\n",
    "import matplotlib.pyplot as plt #plotting library"
   ]
  },
  {
   "cell_type": "code",
   "execution_count": 2,
   "metadata": {},
   "outputs": [],
   "source": [
    "aug = albumentations.Compose([\n",
    "                albumentations.LongestMaxSize(224),\n",
    "])"
   ]
  },
  {
   "cell_type": "code",
   "execution_count": 3,
   "metadata": {},
   "outputs": [],
   "source": [
    "# load label binarizer\n",
    "lb = joblib.load('D:\\\\Anaconda_zadachki\\\\RealTimeObjectDetection1\\\\Tensorflow\\\\workspace\\\\out\\\\lb.pkl')"
   ]
  },
  {
   "cell_type": "code",
   "execution_count": 4,
   "metadata": {},
   "outputs": [],
   "source": [
    "# model to gpu\n",
    "device = torch.device('cude' if torch.cuda.is_available() else 'cpu')"
   ]
  },
  {
   "cell_type": "code",
   "execution_count": 5,
   "metadata": {},
   "outputs": [
    {
     "name": "stdout",
     "output_type": "stream",
     "text": [
      "CustomCNN(\n",
      "  (conv1): Conv2d(3, 16, kernel_size=(5, 5), stride=(1, 1))\n",
      "  (conv2): Conv2d(16, 32, kernel_size=(5, 5), stride=(1, 1))\n",
      "  (conv3): Conv2d(32, 64, kernel_size=(3, 3), stride=(1, 1))\n",
      "  (conv4): Conv2d(64, 128, kernel_size=(5, 5), stride=(1, 1))\n",
      "  (fc1): Linear(in_features=128, out_features=256, bias=True)\n",
      "  (fc2): Linear(in_features=256, out_features=58, bias=True)\n",
      "  (pool): MaxPool2d(kernel_size=2, stride=2, padding=0, dilation=1, ceil_mode=False)\n",
      ")\n",
      "Model loaded\n"
     ]
    }
   ],
   "source": [
    "model = CNN.CustomCNN().to(device)\n",
    "model.load_state_dict(torch.load('D:\\\\Anaconda_zadachki\\\\RealTimeObjectDetection1\\\\Tensorflow\\\\workspace\\\\out\\\\model.pth'))\n",
    "print(model)\n",
    "print('Model loaded')"
   ]
  },
  {
   "cell_type": "code",
   "execution_count": 26,
   "metadata": {},
   "outputs": [
    {
     "name": "stdout",
     "output_type": "stream",
     "text": [
      "torch.Size([1, 3, 224, 224])\n"
     ]
    }
   ],
   "source": [
    "image = cv2.imread(f\"D:\\\\Anaconda_zadachki\\\\RealTimeObjectDetection1\\\\Tensorflow\\\\workspace\\\\images\\\\test\\\\53.jpg\")\n",
    "image_copy = image.copy()\n",
    " \n",
    "image = aug(image=np.array(image))['image']\n",
    "image = np.transpose(image, (2, 0, 1)).astype(np.float32)\n",
    "image = torch.tensor(image, dtype=torch.float).to(device)\n",
    "image = image.unsqueeze(0)\n",
    "print(image.shape)"
   ]
  },
  {
   "cell_type": "code",
   "execution_count": 27,
   "metadata": {},
   "outputs": [
    {
     "name": "stdout",
     "output_type": "stream",
     "text": [
      "PREDS tensor([49])\n",
      "Predicted output: U\n",
      "0.031 seconds\n"
     ]
    },
    {
     "data": {
      "text/plain": [
       "array([[[154, 156, 150],\n",
       "        [156, 158, 152],\n",
       "        [163, 165, 159],\n",
       "        ...,\n",
       "        [147, 155, 155],\n",
       "        [128, 136, 136],\n",
       "        [138, 146, 146]],\n",
       "\n",
       "       [[155, 157, 151],\n",
       "        [154, 156, 150],\n",
       "        [152, 154, 148],\n",
       "        ...,\n",
       "        [131, 139, 139],\n",
       "        [124, 132, 132],\n",
       "        [151, 159, 159]],\n",
       "\n",
       "       [[151, 152, 148],\n",
       "        [157, 158, 154],\n",
       "        [157, 158, 154],\n",
       "        ...,\n",
       "        [131, 139, 139],\n",
       "        [138, 143, 144],\n",
       "        [155, 160, 161]],\n",
       "\n",
       "       ...,\n",
       "\n",
       "       [[172, 162, 144],\n",
       "        [190, 180, 162],\n",
       "        [190, 179, 159],\n",
       "        ...,\n",
       "        [111, 109, 108],\n",
       "        [132, 131, 127],\n",
       "        [138, 137, 133]],\n",
       "\n",
       "       [[175, 162, 146],\n",
       "        [190, 178, 160],\n",
       "        [170, 156, 137],\n",
       "        ...,\n",
       "        [137, 135, 134],\n",
       "        [157, 156, 152],\n",
       "        [137, 136, 132]],\n",
       "\n",
       "       [[187, 174, 158],\n",
       "        [177, 165, 147],\n",
       "        [180, 166, 148],\n",
       "        ...,\n",
       "        [142, 140, 139],\n",
       "        [153, 152, 148],\n",
       "        [150, 149, 145]]], dtype=uint8)"
      ]
     },
     "execution_count": 27,
     "metadata": {},
     "output_type": "execute_result"
    }
   ],
   "source": [
    "start = time.time()\n",
    "outputs = model(image)\n",
    "_, preds = torch.max(outputs.data, 1)\n",
    "print('PREDS', preds)\n",
    "print(f\"Predicted output: {lb.classes_[preds]}\")\n",
    "end = time.time()\n",
    "print(f\"{(end-start):.3f} seconds\")\n",
    "cv2.putText(image_copy, lb.classes_[preds], (10, 30), cv2.FONT_HERSHEY_SIMPLEX, 0.9, (0, 0, 255), 2)"
   ]
  },
  {
   "cell_type": "code",
   "execution_count": 28,
   "metadata": {},
   "outputs": [
    {
     "data": {
      "text/plain": [
       "True"
      ]
     },
     "execution_count": 28,
     "metadata": {},
     "output_type": "execute_result"
    }
   ],
   "source": [
    "cv2.imwrite(f\"D:\\\\Anaconda_zadachki\\\\RealTimeObjectDetection1\\\\Tensorflow\\\\workspace\\\\out\\\\53.jpg\", image_copy)"
   ]
  },
  {
   "cell_type": "code",
   "execution_count": 29,
   "metadata": {},
   "outputs": [
    {
     "data": {
      "text/plain": [
       "'4.5.5'"
      ]
     },
     "execution_count": 29,
     "metadata": {},
     "output_type": "execute_result"
    }
   ],
   "source": [
    "from cv2 import __version__\n",
    "__version__"
   ]
  },
  {
   "cell_type": "code",
   "execution_count": 30,
   "metadata": {},
   "outputs": [
    {
     "data": {
      "text/plain": [
       "-1"
      ]
     },
     "execution_count": 30,
     "metadata": {},
     "output_type": "execute_result"
    }
   ],
   "source": [
    "cv2.imshow(f\"D:\\\\Anaconda_zadachki\\\\RealTimeObjectDetection1\\\\Tensorflow\\\\workspace\\\\out\\\\53.jpg\", image_copy)\n",
    "cv2.waitKey(0)"
   ]
  },
  {
   "cell_type": "code",
   "execution_count": null,
   "metadata": {},
   "outputs": [],
   "source": []
  }
 ],
 "metadata": {
  "kernelspec": {
   "display_name": "Python 3 (ipykernel)",
   "language": "python",
   "name": "python3"
  },
  "language_info": {
   "codemirror_mode": {
    "name": "ipython",
    "version": 3
   },
   "file_extension": ".py",
   "mimetype": "text/x-python",
   "name": "python",
   "nbconvert_exporter": "python",
   "pygments_lexer": "ipython3",
   "version": "3.8.8"
  }
 },
 "nbformat": 4,
 "nbformat_minor": 4
}
